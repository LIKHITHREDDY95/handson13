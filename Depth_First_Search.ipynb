{
  "nbformat": 4,
  "nbformat_minor": 0,
  "metadata": {
    "colab": {
      "provenance": [],
      "authorship_tag": "ABX9TyOPx2cTjQzIJf5KYbu+svSC",
      "include_colab_link": true
    },
    "kernelspec": {
      "name": "python3",
      "display_name": "Python 3"
    },
    "language_info": {
      "name": "python"
    }
  },
  "cells": [
    {
      "cell_type": "markdown",
      "metadata": {
        "id": "view-in-github",
        "colab_type": "text"
      },
      "source": [
        "<a href=\"https://colab.research.google.com/github/LIKHITHREDDY95/handson13/blob/main/Depth_First_Search.ipynb\" target=\"_parent\"><img src=\"https://colab.research.google.com/assets/colab-badge.svg\" alt=\"Open In Colab\"/></a>"
      ]
    },
    {
      "cell_type": "code",
      "execution_count": null,
      "metadata": {
        "colab": {
          "base_uri": "https://localhost:8080/"
        },
        "id": "u55UVgC6yRIQ",
        "outputId": "3225a9da-44d2-4cc6-f235-cfee8b809c8c"
      },
      "outputs": [
        {
          "output_type": "stream",
          "name": "stdout",
          "text": [
            "Welcome to DFS Implementation!\n",
            "This program will help you create a graph and perform DFS traversal.\n",
            "\n",
            "=== Graph Creation ===\n"
          ]
        }
      ],
      "source": [
        "class Graph:\n",
        "    def __init__(self):\n",
        "        self.graph = {}\n",
        "\n",
        "    def add_vertex(self, vertex):\n",
        "\n",
        "        if vertex not in self.graph:\n",
        "            self.graph[vertex] = []\n",
        "\n",
        "    def add_edge(self, vertex1, vertex2):\n",
        "\n",
        "\n",
        "        self.add_vertex(vertex1)\n",
        "        self.add_vertex(vertex2)\n",
        "\n",
        "        if vertex2 not in self.graph[vertex1]:\n",
        "            self.graph[vertex1].append(vertex2)\n",
        "        if vertex1 not in self.graph[vertex2]:\n",
        "            self.graph[vertex2].append(vertex1)\n",
        "\n",
        "    def dfs(self, start_vertex, visited=None):\n",
        "\n",
        "        if visited is None:\n",
        "            visited = set()\n",
        "\n",
        "\n",
        "        visited.add(start_vertex)\n",
        "        print(f\"Visited vertex: {start_vertex}\")\n",
        "\n",
        "\n",
        "        for neighbor in self.graph[start_vertex]:\n",
        "            if neighbor not in visited:\n",
        "                self.dfs(neighbor, visited)\n",
        "\n",
        "        return visited\n",
        "\n",
        "def main():\n",
        "\n",
        "    graph = Graph()\n",
        "\n",
        "\n",
        "    print(\"\\n=== Graph Creation ===\")\n",
        "    try:\n",
        "        num_vertices = int(input(\"Enter the number of vertices: \"))\n",
        "        num_edges = int(input(\"Enter the number of edges: \"))\n",
        "\n",
        "\n",
        "        print(\"\\nEnter edges (vertex pairs, one edge per line):\")\n",
        "        print(\"Example format: 1 2\")\n",
        "\n",
        "        for i in range(num_edges):\n",
        "            try:\n",
        "                v1, v2 = map(int, input(f\"Edge {i+1}: \").split())\n",
        "                graph.add_edge(v1, v2)\n",
        "            except ValueError:\n",
        "                print(\"Invalid input! Please enter two numbers separated by space.\")\n",
        "                return\n",
        "\n",
        "\n",
        "        start_vertex = int(input(\"\\nEnter the starting vertex for DFS: \"))\n",
        "\n",
        "\n",
        "        if start_vertex not in graph.graph:\n",
        "            print(\"Starting vertex not found in graph!\")\n",
        "            return\n",
        "\n",
        "\n",
        "        print(\"\\n=== DFS Traversal ===\")\n",
        "        visited = graph.dfs(start_vertex)\n",
        "\n",
        "        print(\"\\n=== Summary ===\")\n",
        "        print(\"Vertices visited in order:\", ' → '.join(map(str, visited)))\n",
        "        print(\"Total vertices visited:\", len(visited))\n",
        "\n",
        "    except ValueError:\n",
        "        print(\"Please enter valid numbers!\")\n",
        "        return\n",
        "\n",
        "if __name__ == \"__main__\":\n",
        "    print(\"Welcome to DFS Implementation!\")\n",
        "    print(\"This program will help you create a graph and perform DFS traversal.\")\n",
        "    main()"
      ]
    }
  ]
}