{
  "nbformat": 4,
  "nbformat_minor": 0,
  "metadata": {
    "colab": {
      "provenance": [],
      "authorship_tag": "ABX9TyNOnpTAgyq19svn3hcE2ixS",
      "include_colab_link": true
    },
    "kernelspec": {
      "name": "python3",
      "display_name": "Python 3"
    },
    "language_info": {
      "name": "python"
    }
  },
  "cells": [
    {
      "cell_type": "markdown",
      "metadata": {
        "id": "view-in-github",
        "colab_type": "text"
      },
      "source": [
        "<a href=\"https://colab.research.google.com/github/LIKHITHREDDY95/handson13/blob/main/Kruskal_Algo.ipynb\" target=\"_parent\"><img src=\"https://colab.research.google.com/assets/colab-badge.svg\" alt=\"Open In Colab\"/></a>"
      ]
    },
    {
      "cell_type": "code",
      "execution_count": null,
      "metadata": {
        "colab": {
          "base_uri": "https://localhost:8080/"
        },
        "id": "JpPBq5Imzkv5",
        "outputId": "3e07431f-8c40-4060-8d19-b0e4fb4efd1a"
      },
      "outputs": [
        {
          "output_type": "stream",
          "name": "stdout",
          "text": [
            "\n",
            "Enter the number of edges: 10\n",
            "\n",
            "Enter edges and weights (format: vertex1 vertex2 weight)\n",
            "Example: 1 2 5\n",
            "Edge 1: 3 4 5 2 1 3 4 5 1  2 3 24 4 23  1 10\n",
            "Invalid input! Please use format: vertex1 vertex2 weight\n"
          ]
        }
      ],
      "source": [
        "class DisjointSet:\n",
        "    def __init__(self, vertices):\n",
        "        self.parent = {v: v for v in vertices}\n",
        "        self.rank = {v: 0 for v in vertices}\n",
        "\n",
        "    def find(self, item):\n",
        "        \"\"\"Find the root of the set that item belongs to using path compression\"\"\"\n",
        "        if self.parent[item] != item:\n",
        "            self.parent[item] = self.find(self.parent[item])\n",
        "        return self.parent[item]\n",
        "\n",
        "    def union(self, x, y):\n",
        "        \"\"\"Union two sets using rank to keep the tree balanced\"\"\"\n",
        "        root_x = self.find(x)\n",
        "        root_y = self.find(y)\n",
        "\n",
        "        if root_x != root_y:\n",
        "            if self.rank[root_x] < self.rank[root_y]:\n",
        "                root_x, root_y = root_y, root_x\n",
        "            self.parent[root_y] = root_x\n",
        "            if self.rank[root_x] == self.rank[root_y]:\n",
        "                self.rank[root_x] += 1\n",
        "\n",
        "class Graph:\n",
        "    def __init__(self):\n",
        "        self.vertices = set()\n",
        "        self.edges = []\n",
        "\n",
        "    def add_edge(self, u, v, weight):\n",
        "        \"\"\"Add an edge to the graph\"\"\"\n",
        "        self.vertices.add(u)\n",
        "        self.vertices.add(v)\n",
        "        self.edges.append((weight, u, v))\n",
        "\n",
        "    def kruskal(self):\n",
        "        \"\"\"\n",
        "        Implement Kruskal's algorithm to find Minimum Spanning Tree\n",
        "        Returns: list of tuples (vertex1, vertex2, weight) representing MST edges\n",
        "        \"\"\"\n",
        "        # Sort edges by weight\n",
        "        self.edges.sort()\n",
        "\n",
        "        # Initialize disjoint set\n",
        "        ds = DisjointSet(self.vertices)\n",
        "\n",
        "        mst = []\n",
        "        total_weight = 0\n",
        "\n",
        "        # Process each edge in sorted order\n",
        "        for weight, u, v in self.edges:\n",
        "            if ds.find(u) != ds.find(v):\n",
        "                ds.union(u, v)\n",
        "                mst.append((u, v, weight))\n",
        "                total_weight += weight\n",
        "\n",
        "        return mst, total_weight\n",
        "\n",
        "def get_valid_numeric_input(prompt):\n",
        "    \"\"\"Helper function to get valid numeric input from user\"\"\"\n",
        "    while True:\n",
        "        try:\n",
        "            return int(input(prompt))\n",
        "        except ValueError:\n",
        "            print(\"Please enter a valid number!\")\n",
        "\n",
        "def main():\n",
        "\n",
        "\n",
        "    # Create a new graph\n",
        "    graph = Graph()\n",
        "\n",
        "    try:\n",
        "        # Get number of edges from user\n",
        "        num_edges = get_valid_numeric_input(\"\\nEnter the number of edges: \")\n",
        "\n",
        "        # Get edges and weights from user\n",
        "        print(\"\\nEnter edges and weights (format: vertex1 vertex2 weight)\")\n",
        "        print(\"Example: 1 2 5\")\n",
        "\n",
        "        for i in range(num_edges):\n",
        "            while True:\n",
        "                try:\n",
        "                    input_line = input(f\"Edge {i+1}: \")\n",
        "                    v1, v2, weight = map(int, input_line.split())\n",
        "                    graph.add_edge(v1, v2, weight)\n",
        "                    break\n",
        "                except ValueError:\n",
        "                    print(\"Invalid input! Please use format: vertex1 vertex2 weight\")\n",
        "\n",
        "        # Find MST using Kruskal's algorithm\n",
        "        mst, total_weight = graph.kruskal()\n",
        "\n",
        "        # Print results\n",
        "        print(\"\\n=== Minimum Spanning Tree Results ===\")\n",
        "        print(\"\\nEdges in MST:\")\n",
        "        for v1, v2, weight in mst:\n",
        "            print(f\"Edge: {v1} -- {v2}  Weight: {weight}\")\n",
        "\n",
        "        print(f\"\\nTotal weight of MST: {total_weight}\")\n",
        "        print(f\"Number of edges in MST: {len(mst)}\")\n",
        "        print(f\"Number of vertices: {len(graph.vertices)}\")\n",
        "\n",
        "    except Exception as e:\n",
        "        print(f\"An error occurred: {str(e)}\")\n",
        "        return\n",
        "\n",
        "if __name__ == \"__main__\":\n",
        "    main()"
      ]
    }
  ]
}