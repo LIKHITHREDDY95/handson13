{
  "nbformat": 4,
  "nbformat_minor": 0,
  "metadata": {
    "colab": {
      "provenance": [],
      "authorship_tag": "ABX9TyPvxUn2uuLzZ+aqiTA8+Dqb",
      "include_colab_link": true
    },
    "kernelspec": {
      "name": "python3",
      "display_name": "Python 3"
    },
    "language_info": {
      "name": "python"
    }
  },
  "cells": [
    {
      "cell_type": "markdown",
      "metadata": {
        "id": "view-in-github",
        "colab_type": "text"
      },
      "source": [
        "<a href=\"https://colab.research.google.com/github/LIKHITHREDDY95/handson13/blob/main/Toplogical_Sort.ipynb\" target=\"_parent\"><img src=\"https://colab.research.google.com/assets/colab-badge.svg\" alt=\"Open In Colab\"/></a>"
      ]
    },
    {
      "cell_type": "code",
      "execution_count": 5,
      "metadata": {
        "colab": {
          "base_uri": "https://localhost:8080/"
        },
        "id": "UWpVVVDdvRVY",
        "outputId": "55252aba-8091-42bb-8f3c-807609abf234"
      },
      "outputs": [
        {
          "output_type": "stream",
          "name": "stdout",
          "text": [
            "Topological Sort: [5, 4, 2, 3, 1, 0]\n"
          ]
        }
      ],
      "source": [
        "from collections import defaultdict\n",
        "\n",
        "class Graph:\n",
        "    def __init__(self, vertices):\n",
        "        self.graph = defaultdict(list)\n",
        "        self.vertices = vertices\n",
        "\n",
        "    def add_edge(self, u, v):\n",
        "\n",
        "        self.graph[u].append(v)\n",
        "\n",
        "    def topological_sort_util(self, vertex, visited, temp_visited, stack):\n",
        "\n",
        "\n",
        "        temp_visited.add(vertex)\n",
        "\n",
        "\n",
        "        for neighbor in self.graph[vertex]:\n",
        "\n",
        "            if neighbor in temp_visited:\n",
        "                return False\n",
        "\n",
        "            if neighbor not in visited:\n",
        "                if not self.topological_sort_util(neighbor, visited, temp_visited, stack):\n",
        "                    return False\n",
        "\n",
        "\n",
        "        temp_visited.remove(vertex)\n",
        "\n",
        "        visited.add(vertex)\n",
        "\n",
        "        stack.append(vertex)\n",
        "        return True\n",
        "\n",
        "    def topological_sort(self):\n",
        "\n",
        "        visited = set()\n",
        "        temp_visited = set()\n",
        "        stack = []\n",
        "\n",
        "\n",
        "        for vertex in range(self.vertices):\n",
        "            if vertex not in visited:\n",
        "                if not self.topological_sort_util(vertex, visited, temp_visited, stack):\n",
        "                    return None\n",
        "\n",
        "        return stack[::-1]\n",
        "\n",
        "\n",
        "g = Graph(6)\n",
        "\n",
        "\n",
        "g.add_edge(5, 2)\n",
        "g.add_edge(5, 0)\n",
        "g.add_edge(4, 0)\n",
        "g.add_edge(4, 1)\n",
        "g.add_edge(2, 3)\n",
        "g.add_edge(3, 1)\n",
        "\n",
        "\n",
        "result = g.topological_sort()\n",
        "\n",
        "if result is None:\n",
        "    print(\"Graph contains a cycle\")\n",
        "else:\n",
        "    print(\"Topological Sort:\", result)"
      ]
    }
  ]
}